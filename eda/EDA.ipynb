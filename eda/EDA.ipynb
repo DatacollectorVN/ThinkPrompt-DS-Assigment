{
 "cells": [
  {
   "cell_type": "code",
   "execution_count": 16,
   "metadata": {},
   "outputs": [],
   "source": [
    "import os\n",
    "import pandas as pd\n",
    "from scipy.stats import chi2_contingency"
   ]
  },
  {
   "cell_type": "code",
   "execution_count": 5,
   "metadata": {},
   "outputs": [],
   "source": [
    "OUTPUT_COL = 'target'\n",
    "ID_COL = 'id'\n",
    "CURRENT_COLS = ['home_team_name', 'away_team_name', 'match_date',\n",
    "    'league_name', 'league_id', 'is_cup', 'home_team_coach_id', 'away_team_coach_id'\n",
    "]\n",
    "HIST_HOME_COLS = ['home_team_history_match_date_', 'home_team_history_is_play_home_', 'home_team_history_is_cup_', 'home_team_history_goal_'\n",
    "    , 'home_team_history_opponent_goal_', 'home_team_history_rating_', 'home_team_history_opponent_rating_'\n",
    "    , 'home_team_history_coach_', 'home_team_history_league_id_'\n",
    "]\n",
    "HIST_AWAY_COLS = ['away_team_history_match_date_', 'away_team_history_is_play_home_', 'away_team_history_is_cup_', 'away_team_history_goal_'\n",
    "    , 'away_team_history_opponent_goal_', 'away_team_history_rating_', 'away_team_history_opponent_rating_'\n",
    "    , 'away_team_history_coach_', 'away_team_history_league_id_'\n",
    "]\n",
    "\n",
    "DATE_COLS = ['match_date'] + ['home_team_history_match_date_'+str(i) for i in range(1, 11)] \\\n",
    "    + ['away_team_history_match_date_'+str(i) for i in range(1, 11)]\n",
    "\n",
    "DROP_COLS = DATE_COLS + [ID_COL, 'home_team_name', 'away_team_name', 'league_name']\n",
    "\n",
    "DROP_NA_COL = ['home_team_name']\n",
    "\n",
    "MIN_MAX_SCALER_COLS = ['league_id', 'home_team_coach_id', 'away_team_coach_id'] + ['home_team_history_league_id_'+str(i) for i in range(1, 11)] \\\n",
    "    + ['away_team_history_league_id_'+str(i) for i in range(1, 11)] \\\n",
    "    + ['home_team_history_coach_'+str(i) for i in range(1, 11)] \\\n",
    "    + ['away_team_history_coach_'+str(i) for i in range(1, 11)]"
   ]
  },
  {
   "cell_type": "code",
   "execution_count": 6,
   "metadata": {},
   "outputs": [],
   "source": [
    "DATASET_PATH = '../dataset/Predictive modeling - football-match-probability-prediction/'\n",
    "TRAIN_FILE = 'train.csv'\n",
    "TEST_FILE = 'test.csv'\n",
    "\n",
    "TRAIN_PATH = os.path.join(DATASET_PATH, TRAIN_FILE)\n",
    "TEST_PATH = os.path.join(DATASET_PATH, TEST_FILE)"
   ]
  },
  {
   "cell_type": "code",
   "execution_count": 7,
   "metadata": {},
   "outputs": [
    {
     "name": "stderr",
     "output_type": "stream",
     "text": [
      "/var/folders/39/ypky8d257z90sg1r9zbcp99c0000gn/T/ipykernel_12672/4027910153.py:1: DtypeWarning: Columns (7) have mixed types. Specify dtype option on import or set low_memory=False.\n",
      "  df_train = pd.read_csv(TRAIN_PATH)\n"
     ]
    }
   ],
   "source": [
    "df_train = pd.read_csv(TRAIN_PATH)"
   ]
  },
  {
   "cell_type": "code",
   "execution_count": 11,
   "metadata": {},
   "outputs": [],
   "source": [
    "df_train_sub = df_train[[OUTPUT_COL] + CURRENT_COLS].copy()"
   ]
  },
  {
   "cell_type": "code",
   "execution_count": 13,
   "metadata": {},
   "outputs": [
    {
     "data": {
      "text/html": [
       "<div>\n",
       "<style scoped>\n",
       "    .dataframe tbody tr th:only-of-type {\n",
       "        vertical-align: middle;\n",
       "    }\n",
       "\n",
       "    .dataframe tbody tr th {\n",
       "        vertical-align: top;\n",
       "    }\n",
       "\n",
       "    .dataframe thead th {\n",
       "        text-align: right;\n",
       "    }\n",
       "</style>\n",
       "<table border=\"1\" class=\"dataframe\">\n",
       "  <thead>\n",
       "    <tr style=\"text-align: right;\">\n",
       "      <th></th>\n",
       "      <th>target</th>\n",
       "      <th>home_team_name</th>\n",
       "      <th>away_team_name</th>\n",
       "      <th>match_date</th>\n",
       "      <th>league_name</th>\n",
       "      <th>league_id</th>\n",
       "      <th>is_cup</th>\n",
       "      <th>home_team_coach_id</th>\n",
       "      <th>away_team_coach_id</th>\n",
       "    </tr>\n",
       "  </thead>\n",
       "  <tbody>\n",
       "    <tr>\n",
       "      <th>0</th>\n",
       "      <td>away</td>\n",
       "      <td>Newell's Old Boys</td>\n",
       "      <td>River Plate</td>\n",
       "      <td>2019-12-01 00:45:00</td>\n",
       "      <td>Superliga</td>\n",
       "      <td>636</td>\n",
       "      <td>False</td>\n",
       "      <td>468196.0</td>\n",
       "      <td>468200.0</td>\n",
       "    </tr>\n",
       "    <tr>\n",
       "      <th>1</th>\n",
       "      <td>home</td>\n",
       "      <td>Real Estelí</td>\n",
       "      <td>Deportivo Las Sabanas</td>\n",
       "      <td>2019-12-01 01:00:00</td>\n",
       "      <td>Primera Division</td>\n",
       "      <td>752</td>\n",
       "      <td>False</td>\n",
       "      <td>516788.0</td>\n",
       "      <td>22169161.0</td>\n",
       "    </tr>\n",
       "    <tr>\n",
       "      <th>2</th>\n",
       "      <td>draw</td>\n",
       "      <td>UPNFM</td>\n",
       "      <td>Marathón</td>\n",
       "      <td>2019-12-01 01:00:00</td>\n",
       "      <td>Liga Nacional</td>\n",
       "      <td>734</td>\n",
       "      <td>False</td>\n",
       "      <td>2510608.0</td>\n",
       "      <td>456313.0</td>\n",
       "    </tr>\n",
       "    <tr>\n",
       "      <th>3</th>\n",
       "      <td>away</td>\n",
       "      <td>León</td>\n",
       "      <td>Morelia</td>\n",
       "      <td>2019-12-01 01:00:00</td>\n",
       "      <td>Liga MX</td>\n",
       "      <td>743</td>\n",
       "      <td>False</td>\n",
       "      <td>1552508.0</td>\n",
       "      <td>465797.0</td>\n",
       "    </tr>\n",
       "    <tr>\n",
       "      <th>4</th>\n",
       "      <td>home</td>\n",
       "      <td>Cobán Imperial</td>\n",
       "      <td>Iztapa</td>\n",
       "      <td>2019-12-01 01:00:00</td>\n",
       "      <td>Liga Nacional</td>\n",
       "      <td>705</td>\n",
       "      <td>False</td>\n",
       "      <td>429958.0</td>\n",
       "      <td>426870.0</td>\n",
       "    </tr>\n",
       "  </tbody>\n",
       "</table>\n",
       "</div>"
      ],
      "text/plain": [
       "  target     home_team_name         away_team_name           match_date  \\\n",
       "0   away  Newell's Old Boys            River Plate  2019-12-01 00:45:00   \n",
       "1   home        Real Estelí  Deportivo Las Sabanas  2019-12-01 01:00:00   \n",
       "2   draw              UPNFM               Marathón  2019-12-01 01:00:00   \n",
       "3   away               León                Morelia  2019-12-01 01:00:00   \n",
       "4   home     Cobán Imperial                 Iztapa  2019-12-01 01:00:00   \n",
       "\n",
       "        league_name  league_id is_cup  home_team_coach_id  away_team_coach_id  \n",
       "0         Superliga        636  False            468196.0            468200.0  \n",
       "1  Primera Division        752  False            516788.0          22169161.0  \n",
       "2     Liga Nacional        734  False           2510608.0            456313.0  \n",
       "3           Liga MX        743  False           1552508.0            465797.0  \n",
       "4     Liga Nacional        705  False            429958.0            426870.0  "
      ]
     },
     "execution_count": 13,
     "metadata": {},
     "output_type": "execute_result"
    }
   ],
   "source": [
    "df_train_sub.head()"
   ]
  },
  {
   "cell_type": "code",
   "execution_count": 14,
   "metadata": {},
   "outputs": [
    {
     "name": "stdout",
     "output_type": "stream",
     "text": [
      "<class 'pandas.core.frame.DataFrame'>\n",
      "RangeIndex: 110938 entries, 0 to 110937\n",
      "Data columns (total 9 columns):\n",
      " #   Column              Non-Null Count   Dtype  \n",
      "---  ------              --------------   -----  \n",
      " 0   target              110938 non-null  object \n",
      " 1   home_team_name      110937 non-null  object \n",
      " 2   away_team_name      110937 non-null  object \n",
      " 3   match_date          110938 non-null  object \n",
      " 4   league_name         110937 non-null  object \n",
      " 5   league_id           110938 non-null  int64  \n",
      " 6   is_cup              110937 non-null  object \n",
      " 7   home_team_coach_id  89217 non-null   float64\n",
      " 8   away_team_coach_id  89123 non-null   float64\n",
      "dtypes: float64(2), int64(1), object(6)\n",
      "memory usage: 7.6+ MB\n"
     ]
    }
   ],
   "source": [
    "df_train_sub.info()"
   ]
  },
  {
   "cell_type": "code",
   "execution_count": 15,
   "metadata": {},
   "outputs": [
    {
     "data": {
      "text/html": [
       "<div>\n",
       "<style scoped>\n",
       "    .dataframe tbody tr th:only-of-type {\n",
       "        vertical-align: middle;\n",
       "    }\n",
       "\n",
       "    .dataframe tbody tr th {\n",
       "        vertical-align: top;\n",
       "    }\n",
       "\n",
       "    .dataframe thead th {\n",
       "        text-align: right;\n",
       "    }\n",
       "</style>\n",
       "<table border=\"1\" class=\"dataframe\">\n",
       "  <thead>\n",
       "    <tr style=\"text-align: right;\">\n",
       "      <th></th>\n",
       "      <th>league_id</th>\n",
       "      <th>home_team_coach_id</th>\n",
       "      <th>away_team_coach_id</th>\n",
       "    </tr>\n",
       "  </thead>\n",
       "  <tbody>\n",
       "    <tr>\n",
       "      <th>count</th>\n",
       "      <td>110938.000000</td>\n",
       "      <td>8.921700e+04</td>\n",
       "      <td>8.912300e+04</td>\n",
       "    </tr>\n",
       "    <tr>\n",
       "      <th>mean</th>\n",
       "      <td>910.457012</td>\n",
       "      <td>1.287134e+07</td>\n",
       "      <td>1.291552e+07</td>\n",
       "    </tr>\n",
       "    <tr>\n",
       "      <th>std</th>\n",
       "      <td>549.120985</td>\n",
       "      <td>1.578479e+07</td>\n",
       "      <td>1.580344e+07</td>\n",
       "    </tr>\n",
       "    <tr>\n",
       "      <th>min</th>\n",
       "      <td>2.000000</td>\n",
       "      <td>2.000000e+00</td>\n",
       "      <td>2.000000e+00</td>\n",
       "    </tr>\n",
       "    <tr>\n",
       "      <th>25%</th>\n",
       "      <td>444.000000</td>\n",
       "      <td>4.596120e+05</td>\n",
       "      <td>4.595650e+05</td>\n",
       "    </tr>\n",
       "    <tr>\n",
       "      <th>50%</th>\n",
       "      <td>947.000000</td>\n",
       "      <td>1.552728e+06</td>\n",
       "      <td>1.552806e+06</td>\n",
       "    </tr>\n",
       "    <tr>\n",
       "      <th>75%</th>\n",
       "      <td>1293.000000</td>\n",
       "      <td>3.243116e+07</td>\n",
       "      <td>3.279539e+07</td>\n",
       "    </tr>\n",
       "    <tr>\n",
       "      <th>max</th>\n",
       "      <td>2039.000000</td>\n",
       "      <td>3.756849e+07</td>\n",
       "      <td>3.756847e+07</td>\n",
       "    </tr>\n",
       "  </tbody>\n",
       "</table>\n",
       "</div>"
      ],
      "text/plain": [
       "           league_id  home_team_coach_id  away_team_coach_id\n",
       "count  110938.000000        8.921700e+04        8.912300e+04\n",
       "mean      910.457012        1.287134e+07        1.291552e+07\n",
       "std       549.120985        1.578479e+07        1.580344e+07\n",
       "min         2.000000        2.000000e+00        2.000000e+00\n",
       "25%       444.000000        4.596120e+05        4.595650e+05\n",
       "50%       947.000000        1.552728e+06        1.552806e+06\n",
       "75%      1293.000000        3.243116e+07        3.279539e+07\n",
       "max      2039.000000        3.756849e+07        3.756847e+07"
      ]
     },
     "execution_count": 15,
     "metadata": {},
     "output_type": "execute_result"
    }
   ],
   "source": [
    "df_train_sub.describe()"
   ]
  },
  {
   "cell_type": "markdown",
   "metadata": {},
   "source": [
    "## 1. Feature reduction"
   ]
  },
  {
   "cell_type": "code",
   "execution_count": 19,
   "metadata": {},
   "outputs": [
    {
     "name": "stdout",
     "output_type": "stream",
     "text": [
      "Significant difference --> remain home_team_coach_id column\n"
     ]
    }
   ],
   "source": [
    "ref_col = 'home_team_coach_id'\n",
    "obs = pd.crosstab(df_train_sub[OUTPUT_COL], df_train_sub[ref_col])\n",
    "chi_test = chi2_contingency(obs)\n",
    "\n",
    "thr = 0.05\n",
    "if chi_test.pvalue < thr:\n",
    "    print(f'Significant difference --> remain {ref_col} column')\n",
    "else:\n",
    "    print(f'Not significant difference --> drop {ref_col} column')\n"
   ]
  },
  {
   "cell_type": "code",
   "execution_count": 20,
   "metadata": {},
   "outputs": [
    {
     "name": "stdout",
     "output_type": "stream",
     "text": [
      "Significant difference --> remain away_team_coach_id column\n"
     ]
    }
   ],
   "source": [
    "ref_col = 'away_team_coach_id'\n",
    "obs = pd.crosstab(df_train_sub[OUTPUT_COL], df_train_sub[ref_col])\n",
    "chi_test = chi2_contingency(obs)\n",
    "\n",
    "thr = 0.05\n",
    "if chi_test.pvalue < thr:\n",
    "    print(f'Significant difference --> remain {ref_col} column')\n",
    "else:\n",
    "    print(f'Not significant difference --> drop {ref_col} column')\n"
   ]
  },
  {
   "cell_type": "markdown",
   "metadata": {},
   "source": [
    "## 2. Preprocessing"
   ]
  },
  {
   "cell_type": "code",
   "execution_count": 21,
   "metadata": {},
   "outputs": [],
   "source": [
    "# remove nan value in current columns (CURRENT_COLS)\n",
    "df_train = df_train.dropna(subset = DROP_NA_COL)"
   ]
  },
  {
   "cell_type": "code",
   "execution_count": 23,
   "metadata": {},
   "outputs": [
    {
     "data": {
      "text/plain": [
       "target\n",
       "home    48113\n",
       "away    35173\n",
       "draw    27651\n",
       "Name: count, dtype: int64"
      ]
     },
     "execution_count": 23,
     "metadata": {},
     "output_type": "execute_result"
    }
   ],
   "source": [
    "df_train[OUTPUT_COL].value_counts()"
   ]
  },
  {
   "cell_type": "code",
   "execution_count": 24,
   "metadata": {},
   "outputs": [],
   "source": [
    "def oversample(df, target_col):\n",
    "    classes = df[target_col].value_counts().to_dict()\n",
    "    most = max(classes.values())\n",
    "    classes_list = []\n",
    "    for key in classes:\n",
    "        classes_list.append(df[df[target_col] == key]) \n",
    "    classes_sample = []\n",
    "    for i in range(1,len(classes_list)):\n",
    "        classes_sample.append(classes_list[i].sample(most, replace=True))\n",
    "    df_maybe = pd.concat(classes_sample)\n",
    "    final_df = pd.concat([df_maybe,classes_list[0]], axis=0)\n",
    "    final_df = final_df.reset_index(drop=True)\n",
    "    \n",
    "    return final_df"
   ]
  },
  {
   "cell_type": "code",
   "execution_count": 25,
   "metadata": {},
   "outputs": [],
   "source": [
    "df_train = oversample(df_train, OUTPUT_COL)"
   ]
  },
  {
   "cell_type": "code",
   "execution_count": 26,
   "metadata": {},
   "outputs": [
    {
     "data": {
      "text/plain": [
       "target\n",
       "away    48113\n",
       "draw    48113\n",
       "home    48113\n",
       "Name: count, dtype: int64"
      ]
     },
     "execution_count": 26,
     "metadata": {},
     "output_type": "execute_result"
    }
   ],
   "source": [
    "df_train[OUTPUT_COL].value_counts()"
   ]
  },
  {
   "cell_type": "markdown",
   "metadata": {},
   "source": [
    "## 3. Feature engineering"
   ]
  },
  {
   "cell_type": "markdown",
   "metadata": {},
   "source": []
  },
  {
   "cell_type": "code",
   "execution_count": null,
   "metadata": {},
   "outputs": [],
   "source": []
  }
 ],
 "metadata": {
  "kernelspec": {
   "display_name": "ThinkPrompt",
   "language": "python",
   "name": "python3"
  },
  "language_info": {
   "codemirror_mode": {
    "name": "ipython",
    "version": 3
   },
   "file_extension": ".py",
   "mimetype": "text/x-python",
   "name": "python",
   "nbconvert_exporter": "python",
   "pygments_lexer": "ipython3",
   "version": "3.8.17"
  },
  "orig_nbformat": 4
 },
 "nbformat": 4,
 "nbformat_minor": 2
}
